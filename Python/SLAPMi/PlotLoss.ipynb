{
 "cells": [
  {
   "cell_type": "code",
   "execution_count": 28,
   "metadata": {
    "collapsed": true
   },
   "outputs": [],
   "source": [
    "import numpy as np\n",
    "import matplotlib.pyplot as plt\n",
    "import matplotlib\n",
    "%matplotlib inline\n",
    "from scipy import io"
   ]
  },
  {
   "cell_type": "code",
   "execution_count": 45,
   "metadata": {
    "collapsed": false
   },
   "outputs": [
    {
     "name": "stdout",
     "output_type": "stream",
     "text": [
      "Last 5 full loss iterations\n",
      "[ 1872512.53318021  1838075.03114983  1801460.52664806  1766558.68397179\n",
      "  1730358.16560568]\n"
     ]
    },
    {
     "data": {
      "text/plain": [
       "(0, 3000000.0)"
      ]
     },
     "execution_count": 45,
     "metadata": {},
     "output_type": "execute_result"
    },
    {
     "data": {
      "image/png": "[encoded data removed]",
      "text/plain": [
       "<matplotlib.figure.Figure at 0x7f4003de34d0>"
      ]
     },
     "metadata": {},
     "output_type": "display_data"
    }
   ],
   "source": [
    "loss = np.load('loss.npy')\n",
    "loss = loss[loss>0]\n",
    "lossall = loss[::50]\n",
    "tall = np.arange(len(lossall))*50\n",
    "\n",
    "print 'Last 5 full loss iterations'\n",
    "print lossall[-5:]\n",
    "\n",
    "plt.plot(loss,'.');\n",
    "plt.plot(tall,lossall,'.-');\n",
    "plt.legend(('Subsampled loss','Full loss'));\n",
    "plt.ylim(0,.3e7)"
   ]
  },
  {
   "cell_type": "code",
   "execution_count": 30,
   "metadata": {
    "collapsed": false
   },
   "outputs": [],
   "source": [
    "fn = '../../PSI/PRECOMP_nonoise_py.mat'\n",
    "D = io.loadmat(fn, struct_as_record=False, squeeze_me=True)"
   ]
  },
  {
   "cell_type": "code",
   "execution_count": 36,
   "metadata": {
    "collapsed": false
   },
   "outputs": [
    {
     "data": {
      "text/plain": [
       "<1048576x2048 sparse matrix of type '<type 'numpy.float64'>'\n",
       "\twith 1574088 stored elements in Compressed Sparse Column format>"
      ]
     },
     "execution_count": 36,
     "metadata": {},
     "output_type": "execute_result"
    }
   ],
   "source": [
    "D['opts'].P"
   ]
  },
  {
   "cell_type": "code",
   "execution_count": null,
   "metadata": {
    "collapsed": true
   },
   "outputs": [],
   "source": []
  }
 ],
 "metadata": {
  "kernelspec": {
   "display_name": "Python 2",
   "language": "python",
   "name": "python2"
  },
  "language_info": {
   "codemirror_mode": {
    "name": "ipython",
    "version": 2
   },
   "file_extension": ".py",
   "mimetype": "text/x-python",
   "name": "python",
   "nbconvert_exporter": "python",
   "pygments_lexer": "ipython2",
   "version": "2.7.11"
  }
 },
 "nbformat": 4,
 "nbformat_minor": 0
}

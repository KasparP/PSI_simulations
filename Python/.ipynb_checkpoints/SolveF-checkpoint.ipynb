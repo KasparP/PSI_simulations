{
 "cells": [
  {
   "cell_type": "code",
   "execution_count": null,
   "metadata": {
    "collapsed": true
   },
   "outputs": [],
   "source": [
    "import numpy as np\n",
    "import scipy as sp\n",
    "from scipy import io\n",
    "from numpy import ndarray"
   ]
  },
  {
   "cell_type": "code",
   "execution_count": null,
   "metadata": {
    "collapsed": true
   },
   "outputs": [],
   "source": [
    "def SolveFgivenS (Y, P0, S, motion = None):\n",
    "    def P (frame):\n",
    "        return P0\n",
    "\n",
    "    #S is the concatenation [Sk Su]\n",
    "    F = np.zeros((S.shape[1], Y.shape[1]))\n",
    "    for frame in range(0,Y.shape[1]):\n",
    "        PS = P(frame)*S\n",
    "        print frame\n",
    "        F[:,frame] = sp.optimize.nnls(PS,Y)\n",
    "        #ret = lsqlin.lsqnonneg(PS, Y, {'show_progress': False})\n",
    "        #F[:, frame] = ret['x']\n",
    "    return F"
   ]
  },
  {
   "cell_type": "code",
   "execution_count": null,
   "metadata": {
    "collapsed": true
   },
   "outputs": [],
   "source": [
    "fn = '../Problem_nonoise_v1.mat'\n",
    "\n",
    "D = io.loadmat(fn, struct_as_record=False, squeeze_me=True)\n",
    "\n",
    "obs = D['obs']\n",
    "opts = D['opts']\n",
    "\n",
    "Y = obs.data_in\n",
    "P0 = opts.P.T  # transpose\n",
    "S = D['S_init']\n"
   ]
  }
 ],
 "metadata": {
  "kernelspec": {
   "display_name": "Python 2",
   "language": "python",
   "name": "python2"
  },
  "language_info": {
   "codemirror_mode": {
    "name": "ipython",
    "version": 2
   },
   "file_extension": ".py",
   "mimetype": "text/x-python",
   "name": "python",
   "nbconvert_exporter": "python",
   "pygments_lexer": "ipython2",
   "version": "2.7.11"
  }
 },
 "nbformat": 4,
 "nbformat_minor": 0
}
